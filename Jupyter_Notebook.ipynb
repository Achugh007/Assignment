{
 "cells": [
  {
   "cell_type": "markdown",
   "metadata": {},
   "source": [
    "<center>\n",
    "    <img src=\"https://cf-courses-data.s3.us.cloud-object-storage.appdomain.cloud/IBMDeveloperSkillsNetwork-DS0105EN-SkillsNetwork/labs/Module2/images/SN_web_lightmode.png\" width=\"300\" alt=\"cognitiveclass.ai logo\">\n",
    "</center>\n"
   ]
  },
  {
   "cell_type": "markdown",
   "metadata": {},
   "source": [
    "## Exercise 2 - Create a markdown cell with the title of the notebook. \n",
    "# My Awesome Notebook"
   ]
  },
  {
   "cell_type": "markdown",
   "metadata": {
    "tags": []
   },
   "source": [
    "# Exercise 3 - Create a markdown cell for an introduction\n",
    "## Introduction\n",
    "\n",
    "I intend to use this notebook for completing the assignment.\n",
    "\n",
    "Let's get started!"
   ]
  },
  {
   "cell_type": "markdown",
   "metadata": {
    "tags": []
   },
   "source": [
    "## Exercise 4 - Create a markdown cell to list data science languages\n",
    "## Data Science Languages\n",
    "\n",
    "Data science encompasses a wide range of programming languages that are commonly used for various tasks. Here are some popular languages used in data science:\n",
    "\n",
    "- Python: Python is one of the most widely used languages in data science.\n",
    "- R: R is another popular language among data scientists, particularly for statistical analysis and visualization.\n",
    "- SQL: SQL (Structured Query Language) is essential for working with relational databases. \n",
    "- Julia: Julia is a relatively new language gaining traction in the data science community. \n",
    "\n",
    "These are just a few examples of languages commonly used in data science. The choice of language depends on the specific requirements and preferences of the data scientist."
   ]
  },
  {
   "cell_type": "markdown",
   "metadata": {},
   "source": [
    "## Exercise 5 - Create a markdown cell to list data science librarie\n",
    "## Data Science Libraries\n",
    "\n",
    "Jupyter Notebook provides a powerful environment for data scientists to leverage various libraries and frameworks. Here are some widely used data science libraries:\n",
    "\n",
    "- **NumPy**: NumPy is a fundamental library for scientific computing with Python. It provides support for large, multi-dimensional arrays and a wide range of mathematical functions.\n",
    "- **Pandas**: Pandas is a data manipulation library that offers high-performance, easy-to-use data structures such as DataFrames. It enables data cleaning, transformation, and analysis tasks.\n",
    "- **Matplotlib**: Matplotlib is a plotting library that allows for creating static, animated, and interactive visualizations in Python. It provides a wide range of plot types and customization options.\n",
    "- **Seaborn**: Seaborn is a data visualization library built on top of Matplotlib. It offers a high-level interface for creating aesthetically pleasing and informative statistical graphics.\n",
    "- **Scikit-learn**: Scikit-learn is a machine learning library that provides a wide range of algorithms for classification, regression, clustering, and more. It also offers tools for model evaluation and selection.\n",
    "- **TensorFlow**: TensorFlow is an open-source library for machine learning and deep learning. It enables building and training neural networks and has extensive support for deploying models on different platforms.\n",
    "- **PyTorch**: PyTorch is another popular library for deep learning. It provides dynamic computational graphs and a flexible ecosystem for building and training neural networks.\n",
    "- **Keras**: Keras is a high-level neural networks API that can run on top of TensorFlow, Theano, or PyTorch. It simplifies the process of building and training neural networks.\n",
    "\n",
    "These are just a few examples of the many libraries available in the data science ecosystem. Each library offers unique features and capabilities for different data science tasks.\n",
    "\n"
   ]
  },
  {
   "cell_type": "markdown",
   "metadata": {},
   "source": [
    "## Exercise 6 - Create a markdown cell with a table of Data Science tool\n",
    "## Data Science Tools\n",
    "\n",
    "| Tool          | Description                                       |\n",
    "|---------------|---------------------------------------------------|\n",
    "| Jupyter Notebook | Interactive coding environment for data science tasks |\n",
    "| RStudio       | Integrated development environment for R language  |\n",
    "| Visual Studio Code | Lightweight code editor with data science extensions |\n",
    "| Spyder        | Python IDE with advanced features for data science |\n",
    "| Anaconda      | Distribution of Python and R for scientific computing |\n",
    "| TensorFlow    | Machine learning and deep learning framework      |\n",
    "| PyTorch       | Deep learning library for Python                   |\n",
    "| Scikit-learn  | Machine learning library for Python                |\n",
    "| Pandas        | Data manipulation and analysis library             |\n",
    "| NumPy         | Library for numerical computing with Python        |\n",
    "| Matplotlib    | Plotting library for creating visualizations       |\n",
    "| Seaborn       | Statistical data visualization library             |\n",
    "| Plotly        | Interactive data visualization library             |\n",
    "| R             | Statistical programming language                    |\n",
    "| SQL           | Language for managing and querying databases        |\n",
    "| Spark         | Distributed computing framework for big data       |\n",
    "\n",
    "This table provides an overview of some popular tools used in data science workflows. Depending on your specific needs and preferences, you may find these tools helpful for various data analysis and machine learning tasks.\n",
    "\n"
   ]
  },
  {
   "cell_type": "markdown",
   "metadata": {},
   "source": [
    "## Exercise 7 - Create a markdown cell introducing arithmetic expression examples\n",
    "\n",
    "## Arithmetic Expressions\n",
    "\n",
    "Arithmetic expressions are commonly used in programming and data analysis to perform mathematical calculations. Jupyter Notebook provides a convenient environment to work with arithmetic expressions and evaluate them.\n",
    "\n",
    "Here are some examples of arithmetic expressions:\n",
    "\n",
    "1. Addition: `2 + 3` evaluates to `5`\n",
    "2. Subtraction: `10 - 5` evaluates to `5`\n",
    "3. Multiplication: `4 * 6` evaluates to `24`\n",
    "4. Division: `20 / 5` evaluates to `4`\n",
    "5. Exponentiation: `2 ** 3` evaluates to `8`\n",
    "6. Modulo: `15 % 4` evaluates to `3`"
   ]
  },
  {
   "cell_type": "markdown",
   "metadata": {},
   "source": [
    "## Exercise 8 - Create a code cell to multiply and add numbers\n",
    "# Multiplication\n",
    "num1 = 5\n",
    "num2 = 3\n",
    "product = num1 * num2\n",
    "\n",
    "print(\"Multiplication Result:\", product)\n",
    "\n",
    "# Addition\n",
    "num3 = 10\n",
    "num4 = 7\n",
    "sum = num3 + num4\n",
    "\n",
    "print(\"Addition Result:\", sum)"
   ]
  },
  {
   "cell_type": "markdown",
   "metadata": {},
   "source": [
    "## Exercise 9 - Create a code cell to convert minutes to hours\n",
    "\n",
    "# Convert minutes to hours\n",
    "minutes = 150\n",
    "hours = minutes / 60\n",
    "\n",
    "# Print the results\n",
    "print(\"Minutes:\", minutes)\n",
    "print(\"Hours:\", hours)\n"
   ]
  },
  {
   "cell_type": "markdown",
   "metadata": {
    "tags": []
   },
   "source": [
    "## Exercise 10 -Insert a markdown cell to list Objectives\n",
    "## Objectives\n",
    "\n",
    "- Learn to use markup \n",
    "- Learn to use mathematical functions\n",
    "- Learn to indicate author's name\n",
    "\n"
   ]
  },
  {
   "cell_type": "code",
   "execution_count": 7,
   "metadata": {
    "tags": []
   },
   "outputs": [
    {
     "data": {
      "text/plain": [
       "{'authors': [{'name': 'Ananya'}]}"
      ]
     },
     "execution_count": 7,
     "metadata": {},
     "output_type": "execute_result"
    }
   ],
   "source": [
    "# Exercise 11 - Create a markdown cell to indicate the Author’s name. \n",
    "\n",
    "{\n",
    "\"authors\": [\n",
    "    { \"name\": \"Ananya\" }\n",
    "    ]\n",
    "}"
   ]
  },
  {
   "cell_type": "code",
   "execution_count": null,
   "metadata": {},
   "outputs": [],
   "source": []
  }
 ],
 "metadata": {
  "kernelspec": {
   "display_name": "Python",
   "language": "python",
   "name": "conda-env-python-py"
  },
  "language_info": {
   "codemirror_mode": {
    "name": "ipython",
    "version": 3
   },
   "file_extension": ".py",
   "mimetype": "text/x-python",
   "name": "python",
   "nbconvert_exporter": "python",
   "pygments_lexer": "ipython3",
   "version": "3.7.12"
  }
 },
 "nbformat": 4,
 "nbformat_minor": 4
}
